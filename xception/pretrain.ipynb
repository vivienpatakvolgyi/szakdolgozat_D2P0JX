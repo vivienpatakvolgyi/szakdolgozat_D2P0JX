{
  "cells": [
    {
      "cell_type": "code",
      "execution_count": 66,
      "metadata": {
        "id": "iBMcobPHdD8O"
      },
      "outputs": [],
      "source": [
        "import os\n",
        "import tensorflow as tf\n",
        "import numpy as np\n",
        "import matplotlib.pyplot as plt"
      ]
    },
    {
      "cell_type": "code",
      "execution_count": 70,
      "metadata": {},
      "outputs": [],
      "source": [
        "import pickle"
      ]
    },
    {
      "cell_type": "code",
      "execution_count": 71,
      "metadata": {},
      "outputs": [],
      "source": [
        "with open('test_X.pkl', 'rb') as f:\n",
        "    test_X = pickle.load(f)\n",
        "with open('test_y.pkl', 'rb') as f:\n",
        "    test_y = pickle.load(f)\n",
        "with open('test_y.pkl', 'rb') as f:\n",
        "    test_y = pickle.load(f)"
      ]
    },
    {
      "cell_type": "code",
      "execution_count": 72,
      "metadata": {
        "colab": {
          "base_uri": "https://localhost:8080/"
        },
        "id": "ro4oYaEmxe4r",
        "outputId": "7cf3ab6f-ac51-4f75-bccc-bccc9e829424"
      },
      "outputs": [],
      "source": [
        "\n",
        "builder_train = tfds.folder_dataset.ImageFolder('szd/videos/')\n",
        "raw_train = builder_train.as_dataset(split=\"train\", shuffle_files=True)\n",
        "builder_test = tfds.folder_dataset.ImageFolder('szd/videos/')\n",
        "raw_test = builder_test.as_dataset(split=\"test\", shuffle_files=True)\n",
        "builder_val = tfds.folder_dataset.ImageFolder('szd/videos/')\n",
        "raw_val = builder_val.as_dataset(split=\"val\", shuffle_files=True)"
      ]
    },
    {
      "cell_type": "code",
      "execution_count": 75,
      "metadata": {
        "id": "y3PM6GVHcC31"
      },
      "outputs": [],
      "source": [
        "IMG_SIZE = 160 # All images will be resized to 160x160\n",
        "\n",
        "def format_example(pair):\n",
        "  image, label = pair['image'], pair['label']\n",
        "  image = tf.cast(image, tf.float32)\n",
        "  image = (image/127.5) - 1\n",
        "  image = tf.image.resize(image, (IMG_SIZE, IMG_SIZE))\n",
        "  return image, tf.one_hot(label, 7)"
      ]
    },
    {
      "cell_type": "code",
      "execution_count": 76,
      "metadata": {
        "id": "SFZ6ZW7KSXP9"
      },
      "outputs": [],
      "source": [
        "train = raw_train.map(format_example)\n",
        "validation = raw_val.map(format_example)\n",
        "test = raw_test.map(format_example)"
      ]
    },
    {
      "cell_type": "code",
      "execution_count": 77,
      "metadata": {
        "id": "Yic-I66m6Isv"
      },
      "outputs": [],
      "source": [
        "BATCH_SIZE = 32\n",
        "SHUFFLE_BUFFER_SIZE =1000"
      ]
    },
    {
      "cell_type": "code",
      "execution_count": 78,
      "metadata": {
        "id": "p3UUPdm86LNC"
      },
      "outputs": [],
      "source": [
        "train_batches = train.shuffle(SHUFFLE_BUFFER_SIZE).batch(BATCH_SIZE)\n",
        "validation_batches = validation.batch(BATCH_SIZE)\n",
        "test_batches = test.batch(BATCH_SIZE)"
      ]
    },
    {
      "cell_type": "code",
      "execution_count": 79,
      "metadata": {
        "colab": {
          "base_uri": "https://localhost:8080/"
        },
        "id": "iknFo3ELBVho",
        "outputId": "485b8eca-13d0-4f79-dc42-74019ed38a85"
      },
      "outputs": [
        {
          "data": {
            "text/plain": [
              "TensorShape([32, 160, 160, 3])"
            ]
          },
          "execution_count": 79,
          "metadata": {},
          "output_type": "execute_result"
        }
      ],
      "source": [
        "for image_batch, label_batch in train_batches.take(1):\n",
        "   pass\n",
        "\n",
        "image_batch.shape"
      ]
    },
    {
      "cell_type": "code",
      "execution_count": 80,
      "metadata": {
        "colab": {
          "base_uri": "https://localhost:8080/"
        },
        "id": "19IQ2gqneqmS",
        "outputId": "0b6f42b6-f06b-409c-c47c-73f4d2d97475"
      },
      "outputs": [],
      "source": [
        "IMG_SHAPE = (IMG_SIZE, IMG_SIZE, 3)\n",
        "\n",
        "base_model = tf.keras.applications.Xception(input_shape=IMG_SHAPE,\n",
        "                                               include_top=False,\n",
        "                                               weights='imagenet')\n"
      ]
    },
    {
      "cell_type": "code",
      "execution_count": 81,
      "metadata": {
        "colab": {
          "base_uri": "https://localhost:8080/"
        },
        "id": "Y-2LJL0EEUcx",
        "outputId": "daa57c04-5eb2-4fff-b67c-85e1171d9339"
      },
      "outputs": [
        {
          "name": "stdout",
          "output_type": "stream",
          "text": [
            "(32, 5, 5, 2048)\n"
          ]
        }
      ],
      "source": [
        "feature_batch = base_model(image_batch)\n",
        "print(feature_batch.shape)"
      ]
    },
    {
      "cell_type": "code",
      "execution_count": 82,
      "metadata": {
        "id": "OTCJH4bphOeo"
      },
      "outputs": [],
      "source": [
        "base_model.trainable = False"
      ]
    },
    {
      "cell_type": "code",
      "execution_count": 84,
      "metadata": {
        "colab": {
          "base_uri": "https://localhost:8080/"
        },
        "id": "dLnpMF5KOALm",
        "outputId": "2d74651e-ae27-4485-9dec-e18bd4951450"
      },
      "outputs": [
        {
          "name": "stdout",
          "output_type": "stream",
          "text": [
            "(32, 2048)\n"
          ]
        }
      ],
      "source": [
        "global_average_layer = tf.keras.layers.GlobalAveragePooling2D()\n",
        "feature_batch_average = global_average_layer(feature_batch)"
      ]
    },
    {
      "cell_type": "code",
      "execution_count": 85,
      "metadata": {
        "colab": {
          "base_uri": "https://localhost:8080/"
        },
        "id": "Wv4afXKj6cVa",
        "outputId": "059cbf13-c900-4e51-9780-69d3c188a9bd"
      },
      "outputs": [
        {
          "name": "stdout",
          "output_type": "stream",
          "text": [
            "(32, 7)\n"
          ]
        }
      ],
      "source": [
        "prediction_layer = tf.keras.layers.Dense(7)\n",
        "prediction_batch = prediction_layer(feature_batch_average)"
      ]
    },
    {
      "cell_type": "code",
      "execution_count": 86,
      "metadata": {
        "id": "eApvroIyn1K0"
      },
      "outputs": [],
      "source": [
        "model = tf.keras.Sequential([\n",
        "  base_model,\n",
        "  global_average_layer,\n",
        "  prediction_layer\n",
        "])"
      ]
    },
    {
      "cell_type": "code",
      "execution_count": 87,
      "metadata": {
        "id": "RpR8HdyMhukJ"
      },
      "outputs": [],
      "source": [
        "base_learning_rate = 0.001\n",
        "model.compile(optimizer=tf.keras.optimizers.Adam(learning_rate=base_learning_rate),\n",
        "              loss=tf.keras.losses.CategoricalCrossentropy(from_logits = True),\n",
        "              metrics=['accuracy'])"
      ]
    },
    {
      "cell_type": "code",
      "execution_count": 89,
      "metadata": {
        "colab": {
          "base_uri": "https://localhost:8080/"
        },
        "id": "Om4O3EESkab1",
        "outputId": "0fcdffe0-d352-4872-f9d4-1993ec563507"
      },
      "outputs": [
        {
          "name": "stdout",
          "output_type": "stream",
          "text": [
            "10/10 [==============================] - 13s 553ms/step - loss: 2.1226 - accuracy: 0.1375\n"
          ]
        }
      ],
      "source": [
        "initial_epochs = 10\n",
        "validation_steps = 10\n",
        "loss0,accuracy0 = model.evaluate(validation_batches, steps = validation_steps)"
      ]
    },
    {
      "cell_type": "code",
      "execution_count": 90,
      "metadata": {
        "colab": {
          "base_uri": "https://localhost:8080/"
        },
        "id": "8cYT1c48CuSd",
        "outputId": "a26bc998-ef15-4299-843d-bab559bcce27"
      },
      "outputs": [
        {
          "name": "stdout",
          "output_type": "stream",
          "text": [
            "initial loss: 2.12\n",
            "initial accuracy: 0.14\n"
          ]
        }
      ],
      "source": [
        "print(\"initial loss: {:.2f}\".format(loss0))\n",
        "print(\"initial accuracy: {:.2f}\".format(accuracy0))"
      ]
    },
    {
      "cell_type": "code",
      "execution_count": 91,
      "metadata": {
        "colab": {
          "base_uri": "https://localhost:8080/"
        },
        "id": "JsaRFlZ9B6WK",
        "outputId": "5bb25743-b08e-4db3-cb6c-0dddec53db6f"
      },
      "outputs": [
        {
          "name": "stdout",
          "output_type": "stream",
          "text": [
            "Epoch 1/10\n"
          ]
        },
        {
          "name": "stdout",
          "output_type": "stream",
          "text": [
            "2098/2098 [==============================] - 1332s 628ms/step - loss: 0.8484 - accuracy: 0.6839 - val_loss: 1.7740 - val_accuracy: 0.4922\n",
            "Epoch 2/10\n",
            "2098/2098 [==============================] - 1381s 658ms/step - loss: 0.6753 - accuracy: 0.7527 - val_loss: 1.9348 - val_accuracy: 0.5109\n",
            "Epoch 3/10\n",
            "2098/2098 [==============================] - 1030s 490ms/step - loss: 0.6236 - accuracy: 0.7710 - val_loss: 2.0509 - val_accuracy: 0.4784\n",
            "Epoch 4/10\n",
            "2098/2098 [==============================] - 774s 369ms/step - loss: 0.5926 - accuracy: 0.7851 - val_loss: 2.0176 - val_accuracy: 0.5111\n",
            "Epoch 5/10\n",
            "2098/2098 [==============================] - 773s 368ms/step - loss: 0.5739 - accuracy: 0.7901 - val_loss: 1.9999 - val_accuracy: 0.5095\n",
            "Epoch 6/10\n",
            "2098/2098 [==============================] - 822s 392ms/step - loss: 0.5592 - accuracy: 0.7962 - val_loss: 2.1739 - val_accuracy: 0.4966\n",
            "Epoch 7/10\n",
            "2098/2098 [==============================] - 774s 369ms/step - loss: 0.5482 - accuracy: 0.8009 - val_loss: 2.0499 - val_accuracy: 0.5061\n",
            "Epoch 8/10\n",
            "2098/2098 [==============================] - 769s 366ms/step - loss: 0.5415 - accuracy: 0.8026 - val_loss: 2.0294 - val_accuracy: 0.5011\n",
            "Epoch 9/10\n",
            "2098/2098 [==============================] - 768s 366ms/step - loss: 0.5327 - accuracy: 0.8048 - val_loss: 2.1611 - val_accuracy: 0.4950\n",
            "Epoch 10/10\n",
            "2098/2098 [==============================] - 807s 385ms/step - loss: 0.5277 - accuracy: 0.8080 - val_loss: 2.2953 - val_accuracy: 0.4915\n"
          ]
        }
      ],
      "source": [
        "\n",
        "history = model.fit(train_batches,\n",
        "                        epochs=initial_epochs, \n",
        "                        validation_data=validation_batches)\n"
      ]
    },
    {
      "cell_type": "code",
      "execution_count": 93,
      "metadata": {
        "id": "4nzcagVitLQm"
      },
      "outputs": [],
      "source": [
        "base_model.trainable = True"
      ]
    },
    {
      "cell_type": "code",
      "execution_count": 94,
      "metadata": {
        "colab": {
          "base_uri": "https://localhost:8080/"
        },
        "id": "-4HgVAacRs5v",
        "outputId": "4d05518a-2dba-4ade-a8e5-4a0f220b0884"
      },
      "outputs": [
        {
          "name": "stdout",
          "output_type": "stream",
          "text": [
            "Number of layers in the base model:  132\n"
          ]
        }
      ],
      "source": [
        "# Let's take a look to see how many layers are in the base model\n",
        "print(\"Number of layers in the base model: \", len(base_model.layers))\n",
        "\n",
        "# Fine-tune from this layer onwards\n",
        "fine_tune_at = 100\n",
        "\n",
        "# Freeze all the layers before the `fine_tune_at` layer\n",
        "for layer in base_model.layers[:fine_tune_at]:\n",
        "  layer.trainable =  False"
      ]
    },
    {
      "cell_type": "code",
      "execution_count": 95,
      "metadata": {
        "id": "NtUnaz0WUDva"
      },
      "outputs": [],
      "source": [
        "model.compile(loss=tf.keras.losses.CategoricalCrossentropy(from_logits=True),\n",
        "              optimizer = tf.keras.optimizers.Adam(learning_rate=base_learning_rate/10),\n",
        "              metrics=['accuracy'])"
      ]
    },
    {
      "cell_type": "code",
      "execution_count": 96,
      "metadata": {
        "colab": {
          "base_uri": "https://localhost:8080/"
        },
        "id": "WwBWy7J2kZvA",
        "outputId": "e2b107dc-bf4d-45a3-e84b-953b579c9cd1"
      },
      "outputs": [
        {
          "name": "stdout",
          "output_type": "stream",
          "text": [
            "Model: \"sequential_2\"\n",
            "_________________________________________________________________\n",
            " Layer (type)                Output Shape              Param #   \n",
            "=================================================================\n",
            " xception (Functional)       (None, 5, 5, 2048)        20861480  \n",
            "                                                                 \n",
            " global_average_pooling2d_1  (None, 2048)              0         \n",
            "  (GlobalAveragePooling2D)                                       \n",
            "                                                                 \n",
            " dense_1 (Dense)             (None, 7)                 14343     \n",
            "                                                                 \n",
            "=================================================================\n",
            "Total params: 20875823 (79.63 MB)\n",
            "Trainable params: 9492687 (36.21 MB)\n",
            "Non-trainable params: 11383136 (43.42 MB)\n",
            "_________________________________________________________________\n"
          ]
        }
      ],
      "source": [
        "model.summary()"
      ]
    },
    {
      "cell_type": "code",
      "execution_count": 98,
      "metadata": {
        "colab": {
          "base_uri": "https://localhost:8080/"
        },
        "id": "ECQLkAsFTlun",
        "outputId": "e8ca5f3c-d44a-4bfb-8050-0a4dd911289c"
      },
      "outputs": [
        {
          "name": "stdout",
          "output_type": "stream",
          "text": [
            "Epoch 10/16\n"
          ]
        },
        {
          "name": "stdout",
          "output_type": "stream",
          "text": [
            "2098/2098 [==============================] - 1184s 562ms/step - loss: 0.3676 - accuracy: 0.8715 - val_loss: 1.7080 - val_accuracy: 0.6148\n",
            "Epoch 11/16\n",
            "2098/2098 [==============================] - 1197s 571ms/step - loss: 0.0971 - accuracy: 0.9660 - val_loss: 2.0736 - val_accuracy: 0.5978\n",
            "Epoch 12/16\n",
            "2098/2098 [==============================] - 1136s 541ms/step - loss: 0.0498 - accuracy: 0.9837 - val_loss: 2.1654 - val_accuracy: 0.6026\n",
            "Epoch 13/16\n",
            "2098/2098 [==============================] - 1125s 536ms/step - loss: 0.0367 - accuracy: 0.9878 - val_loss: 2.5149 - val_accuracy: 0.6046\n",
            "Epoch 14/16\n",
            "2098/2098 [==============================] - 1133s 540ms/step - loss: 0.0290 - accuracy: 0.9907 - val_loss: 2.5557 - val_accuracy: 0.5850\n",
            "Epoch 15/16\n",
            "2098/2098 [==============================] - 1135s 541ms/step - loss: 0.0250 - accuracy: 0.9916 - val_loss: 2.5734 - val_accuracy: 0.6276\n",
            "Epoch 16/16\n",
            "2098/2098 [==============================] - 1170s 557ms/step - loss: 0.0206 - accuracy: 0.9933 - val_loss: 2.7555 - val_accuracy: 0.6121\n"
          ]
        }
      ],
      "source": [
        "fine_tune_epochs = 10\n",
        "total_epochs =  initial_epochs + fine_tune_epochs\n",
        "\n",
        "history_fine = model.fit(train_batches,\n",
        "                         epochs=total_epochs,\n",
        "                         initial_epoch =  history.epoch[-1],\n",
        "                         validation_data=validation_batches)"
      ]
    },
    {
      "cell_type": "code",
      "execution_count": 99,
      "metadata": {},
      "outputs": [],
      "source": [
        "model.layers[0].save_weights('xception.h5')"
      ]
    }
  ],
  "metadata": {
    "accelerator": "GPU",
    "colab": {
      "provenance": []
    },
    "kernelspec": {
      "display_name": "Python 3",
      "name": "python3"
    },
    "language_info": {
      "codemirror_mode": {
        "name": "ipython",
        "version": 3
      },
      "file_extension": ".py",
      "mimetype": "text/x-python",
      "name": "python",
      "nbconvert_exporter": "python",
      "pygments_lexer": "ipython3",
      "version": "3.11.5"
    }
  },
  "nbformat": 4,
  "nbformat_minor": 0
}
