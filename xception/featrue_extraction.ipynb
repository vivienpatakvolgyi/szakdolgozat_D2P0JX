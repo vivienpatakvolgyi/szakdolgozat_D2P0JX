{
 "cells": [
  {
   "cell_type": "code",
   "execution_count": 19,
   "metadata": {},
   "outputs": [],
   "source": [
    "# importing libray to handle status bars\n",
    "from tqdm.notebook import tqdm\n",
    "\n",
    "# import libray to ignore warnings\n",
    "import warnings\n",
    "warnings.filterwarnings(\"ignore\")\n",
    "\n",
    "# importing library to deal with numeric arrays\n",
    "import numpy as np\n",
    "\n",
    "# importing deep learning library\n",
    "import tensorflow as tf\n",
    "\n",
    "#importing library to read files\n",
    "import pickle"
   ]
  },
  {
   "cell_type": "code",
   "execution_count": 18,
   "metadata": {},
   "outputs": [],
   "source": [
    "def img_feature_extraction(x_values, pre_model):\n",
    "\n",
    "    data = []\n",
    "    \n",
    "    # preprocessing and then using pretrained neural nets to extract features to be fed into Global Pooling\n",
    "    for image in tqdm(x_values):\n",
    "        im_toarray = tf.keras.preprocessing.image.img_to_array(image)\n",
    "        \n",
    "        im_toarray = np.expand_dims(image, axis=0)\n",
    "        im_toarray = tf.keras.applications.mobilenet_v2.preprocess_input(im_toarray)\n",
    "        #im_toarray = tf.keras.applications.xception.preprocess_input(im_toarray)\n",
    "        \n",
    "        data.append(im_toarray)\n",
    "        \n",
    "    data_stack = np.vstack(data) \n",
    "    \n",
    "    features = pre_model.predict(data_stack, batch_size=52)\n",
    "    \n",
    "    return data_stack, features"
   ]
  },
  {
   "cell_type": "code",
   "execution_count": 15,
   "metadata": {},
   "outputs": [],
   "source": [
    "IMAGE_DIMS = (240, 240, 3)"
   ]
  },
  {
   "cell_type": "code",
   "execution_count": 16,
   "metadata": {},
   "outputs": [
    {
     "name": "stdout",
     "output_type": "stream",
     "text": [
      "WARNING:tensorflow:`input_shape` is undefined or non-square, or `rows` is not in [96, 128, 160, 192, 224]. Weights for input shape (224, 224) will be loaded as the default.\n"
     ]
    }
   ],
   "source": [
    "\n",
    "xcp_model = tf.keras.applications.MobileNetV2(input_shape=IMAGE_DIMS, include_top=False, weights='imagenet')\n",
    "    \n",
    "for layer in xcp_model.layers:\n",
    "    layer.trainable = False"
   ]
  },
  {
   "cell_type": "code",
   "execution_count": null,
   "metadata": {},
   "outputs": [],
   "source": [
    "xcp_model.load_weights('xception.h5')"
   ]
  },
  {
   "cell_type": "code",
   "execution_count": 7,
   "metadata": {},
   "outputs": [],
   "source": [
    "with open('train_X.pkl', 'rb') as f:\n",
    "    train_X = pickle.load(f)\n",
    "with open('val_y.pkl', 'rb') as f:\n",
    "    train_y = pickle.load(f)"
   ]
  },
  {
   "cell_type": "code",
   "execution_count": 8,
   "metadata": {},
   "outputs": [],
   "source": [
    "with open('test_X.pkl', 'rb') as f:\n",
    "    test_X = pickle.load(f)\n",
    "with open('test_y.pkl', 'rb') as f:\n",
    "    test_y = pickle.load(f)"
   ]
  },
  {
   "cell_type": "code",
   "execution_count": 9,
   "metadata": {},
   "outputs": [],
   "source": [
    "with open('val_X.pkl', 'rb') as f:\n",
    "    val_X = pickle.load(f)\n",
    "with open('val_y.pkl', 'rb') as f:\n",
    "    val_y = pickle.load(f)"
   ]
  },
  {
   "cell_type": "code",
   "execution_count": 10,
   "metadata": {},
   "outputs": [],
   "source": [
    "frames_val = [3546, 3413]\n",
    "frames_test = [4832, 4326]\n",
    "frames_train = [6388, 3620, 3000, 2938, 3220, 3908, 1645, 4692, 5736, 5064, 4720, 2916, 2597, 4739, 3653, 3612, 4678]"
   ]
  },
  {
   "cell_type": "code",
   "execution_count": 26,
   "metadata": {},
   "outputs": [],
   "source": [
    "def extract(frames, model, feature_data, name):\n",
    "\n",
    "    start = 0\n",
    "    for i in range(len(frames)):\n",
    "        if i > -1:\n",
    "            if start == 0:\n",
    "                p, f = img_feature_extraction(feature_data[ :frames[i]], model)\n",
    "\n",
    "                \n",
    "            else:\n",
    "                p, f = img_feature_extraction(feature_data[start:start+frames[i]], model)\n",
    "\n",
    "\n",
    "\n",
    "            with open(f'{name}_extract{i}.pkl', 'wb') as file:  # open a text file\n",
    "                pickle.dump(f, file) \n",
    "            \"\"\"with open(f'{name}_extract_proc{i}.pkl', 'wb') as file:  # open a text file\n",
    "                pickle.dump(p, file) \"\"\"\n",
    "\n",
    "        \n",
    "        start += frames[i]\n"
   ]
  },
  {
   "cell_type": "code",
   "execution_count": 39,
   "metadata": {},
   "outputs": [
    {
     "data": {
      "application/vnd.jupyter.widget-view+json": {
       "model_id": "61dc384e9a604f9d9dda9d5cb7d0e555",
       "version_major": 2,
       "version_minor": 0
      },
      "text/plain": [
       "  0%|          | 0/3546 [00:00<?, ?it/s]"
      ]
     },
     "metadata": {},
     "output_type": "display_data"
    },
    {
     "ename": "MemoryError",
     "evalue": "Unable to allocate 2.28 GiB for an array with shape (3546, 240, 240, 3) and data type float32",
     "output_type": "error",
     "traceback": [
      "\u001b[1;31m---------------------------------------------------------------------------\u001b[0m",
      "\u001b[1;31mMemoryError\u001b[0m                               Traceback (most recent call last)",
      "\u001b[1;32mc:\\Users\\Via\\Documents\\SZD_code\\names.ipynb Cell 16\u001b[0m line \u001b[0;36m1\n\u001b[1;32m----> <a href='vscode-notebook-cell:/c%3A/Users/Via/Documents/SZD_code/names.ipynb#X21sZmlsZQ%3D%3D?line=0'>1</a>\u001b[0m extract(frames_val, xcp_model, test_X, \u001b[39m'\u001b[39;49m\u001b[39mtest\u001b[39;49m\u001b[39m'\u001b[39;49m)\n",
      "\u001b[1;32mc:\\Users\\Via\\Documents\\SZD_code\\names.ipynb Cell 16\u001b[0m line \u001b[0;36m9\n\u001b[0;32m      <a href='vscode-notebook-cell:/c%3A/Users/Via/Documents/SZD_code/names.ipynb#X21sZmlsZQ%3D%3D?line=6'>7</a>\u001b[0m \u001b[39mif\u001b[39;00m i \u001b[39m>\u001b[39m \u001b[39m-\u001b[39m\u001b[39m1\u001b[39m:\n\u001b[0;32m      <a href='vscode-notebook-cell:/c%3A/Users/Via/Documents/SZD_code/names.ipynb#X21sZmlsZQ%3D%3D?line=7'>8</a>\u001b[0m     \u001b[39mif\u001b[39;00m start \u001b[39m==\u001b[39m \u001b[39m0\u001b[39m:\n\u001b[1;32m----> <a href='vscode-notebook-cell:/c%3A/Users/Via/Documents/SZD_code/names.ipynb#X21sZmlsZQ%3D%3D?line=8'>9</a>\u001b[0m         p, f \u001b[39m=\u001b[39m img_feature_extraction(feature_data[ :frames[i]], model)\n\u001b[0;32m     <a href='vscode-notebook-cell:/c%3A/Users/Via/Documents/SZD_code/names.ipynb#X21sZmlsZQ%3D%3D?line=11'>12</a>\u001b[0m     \u001b[39melse\u001b[39;00m:\n\u001b[0;32m     <a href='vscode-notebook-cell:/c%3A/Users/Via/Documents/SZD_code/names.ipynb#X21sZmlsZQ%3D%3D?line=12'>13</a>\u001b[0m         p, f \u001b[39m=\u001b[39m img_feature_extraction(feature_data[start:start\u001b[39m+\u001b[39mframes[i]], model)\n",
      "\u001b[1;32mc:\\Users\\Via\\Documents\\SZD_code\\names.ipynb Cell 16\u001b[0m line \u001b[0;36m1\n\u001b[0;32m     <a href='vscode-notebook-cell:/c%3A/Users/Via/Documents/SZD_code/names.ipynb#X21sZmlsZQ%3D%3D?line=11'>12</a>\u001b[0m     data\u001b[39m.\u001b[39mappend(im_toarray)\n\u001b[0;32m     <a href='vscode-notebook-cell:/c%3A/Users/Via/Documents/SZD_code/names.ipynb#X21sZmlsZQ%3D%3D?line=13'>14</a>\u001b[0m data_stack \u001b[39m=\u001b[39m np\u001b[39m.\u001b[39mvstack(data) \n\u001b[1;32m---> <a href='vscode-notebook-cell:/c%3A/Users/Via/Documents/SZD_code/names.ipynb#X21sZmlsZQ%3D%3D?line=15'>16</a>\u001b[0m features \u001b[39m=\u001b[39m pre_model\u001b[39m.\u001b[39;49mpredict(data_stack, batch_size\u001b[39m=\u001b[39;49m\u001b[39m52\u001b[39;49m)\n\u001b[0;32m     <a href='vscode-notebook-cell:/c%3A/Users/Via/Documents/SZD_code/names.ipynb#X21sZmlsZQ%3D%3D?line=17'>18</a>\u001b[0m \u001b[39mreturn\u001b[39;00m data_stack, features\n",
      "File \u001b[1;32mc:\\Users\\Via\\Documents\\SZD_code\\Lib\\site-packages\\keras\\src\\utils\\traceback_utils.py:70\u001b[0m, in \u001b[0;36mfilter_traceback.<locals>.error_handler\u001b[1;34m(*args, **kwargs)\u001b[0m\n\u001b[0;32m     67\u001b[0m     filtered_tb \u001b[39m=\u001b[39m _process_traceback_frames(e\u001b[39m.\u001b[39m__traceback__)\n\u001b[0;32m     68\u001b[0m     \u001b[39m# To get the full stack trace, call:\u001b[39;00m\n\u001b[0;32m     69\u001b[0m     \u001b[39m# `tf.debugging.disable_traceback_filtering()`\u001b[39;00m\n\u001b[1;32m---> 70\u001b[0m     \u001b[39mraise\u001b[39;00m e\u001b[39m.\u001b[39mwith_traceback(filtered_tb) \u001b[39mfrom\u001b[39;00m \u001b[39mNone\u001b[39;00m\n\u001b[0;32m     71\u001b[0m \u001b[39mfinally\u001b[39;00m:\n\u001b[0;32m     72\u001b[0m     \u001b[39mdel\u001b[39;00m filtered_tb\n",
      "File \u001b[1;32mc:\\Users\\Via\\Documents\\SZD_code\\Lib\\site-packages\\tensorflow\\python\\framework\\constant_op.py:86\u001b[0m, in \u001b[0;36mconvert_to_eager_tensor\u001b[1;34m(value, ctx, dtype)\u001b[0m\n\u001b[0;32m     66\u001b[0m \u001b[39m\u001b[39m\u001b[39m\"\"\"Converts the given `value` to an `EagerTensor`.\u001b[39;00m\n\u001b[0;32m     67\u001b[0m \n\u001b[0;32m     68\u001b[0m \u001b[39mNote that this function could return cached copies of created constants for\u001b[39;00m\n\u001b[1;32m   (...)\u001b[0m\n\u001b[0;32m     80\u001b[0m \u001b[39m  TypeError: if `dtype` is not compatible with the type of t.\u001b[39;00m\n\u001b[0;32m     81\u001b[0m \u001b[39m\"\"\"\u001b[39;00m\n\u001b[0;32m     82\u001b[0m \u001b[39mif\u001b[39;00m \u001b[39misinstance\u001b[39m(value, np\u001b[39m.\u001b[39mndarray):\n\u001b[0;32m     83\u001b[0m   \u001b[39m# Make a copy explicitly because the EagerTensor might share the underlying\u001b[39;00m\n\u001b[0;32m     84\u001b[0m   \u001b[39m# memory with the input array. Without this copy, users will be able to\u001b[39;00m\n\u001b[0;32m     85\u001b[0m   \u001b[39m# modify the EagerTensor after its creation by changing the input array.\u001b[39;00m\n\u001b[1;32m---> 86\u001b[0m   value \u001b[39m=\u001b[39m value\u001b[39m.\u001b[39mcopy()\n\u001b[0;32m     87\u001b[0m \u001b[39mif\u001b[39;00m \u001b[39misinstance\u001b[39m(value, ops\u001b[39m.\u001b[39mEagerTensor):\n\u001b[0;32m     88\u001b[0m   \u001b[39mif\u001b[39;00m dtype \u001b[39mis\u001b[39;00m \u001b[39mnot\u001b[39;00m \u001b[39mNone\u001b[39;00m \u001b[39mand\u001b[39;00m value\u001b[39m.\u001b[39mdtype \u001b[39m!=\u001b[39m dtype:\n",
      "\u001b[1;31mMemoryError\u001b[0m: Unable to allocate 2.28 GiB for an array with shape (3546, 240, 240, 3) and data type float32"
     ]
    }
   ],
   "source": [
    "\n",
    "extract(frames_test, xcp_model, test_X, 'test')\n"
   ]
  },
  {
   "cell_type": "code",
   "execution_count": 27,
   "metadata": {},
   "outputs": [
    {
     "data": {
      "application/vnd.jupyter.widget-view+json": {
       "model_id": "b13fa3a8346d4d3a9560588989103110",
       "version_major": 2,
       "version_minor": 0
      },
      "text/plain": [
       "  0%|          | 0/4832 [00:00<?, ?it/s]"
      ]
     },
     "metadata": {},
     "output_type": "display_data"
    },
    {
     "name": "stdout",
     "output_type": "stream",
     "text": [
      "93/93 [==============================] - 296s 3s/step\n"
     ]
    },
    {
     "data": {
      "application/vnd.jupyter.widget-view+json": {
       "model_id": "522ba6b5e58a4130b4a86d9e28fc13e3",
       "version_major": 2,
       "version_minor": 0
      },
      "text/plain": [
       "  0%|          | 0/4326 [00:00<?, ?it/s]"
      ]
     },
     "metadata": {},
     "output_type": "display_data"
    },
    {
     "name": "stdout",
     "output_type": "stream",
     "text": [
      "84/84 [==============================] - 275s 3s/step\n"
     ]
    }
   ],
   "source": [
    "extract(frames_val, xcp_model, val_X, 'val')"
   ]
  },
  {
   "cell_type": "code",
   "execution_count": 16,
   "metadata": {},
   "outputs": [
    {
     "ename": "NameError",
     "evalue": "name 'train_X' is not defined",
     "output_type": "error",
     "traceback": [
      "\u001b[1;31m---------------------------------------------------------------------------\u001b[0m",
      "\u001b[1;31mNameError\u001b[0m                                 Traceback (most recent call last)",
      "\u001b[1;32mc:\\Users\\Via\\Documents\\SZD_code\\names.ipynb Cell 18\u001b[0m line \u001b[0;36m1\n\u001b[1;32m----> <a href='vscode-notebook-cell:/c%3A/Users/Via/Documents/SZD_code/names.ipynb#X23sZmlsZQ%3D%3D?line=0'>1</a>\u001b[0m extract(frames_train, xcp_model, train_X, \u001b[39m'\u001b[39m\u001b[39mtrain\u001b[39m\u001b[39m'\u001b[39m)\n",
      "\u001b[1;31mNameError\u001b[0m: name 'train_X' is not defined"
     ]
    }
   ],
   "source": [
    "extract(frames_train, xcp_model, train_X, 'train')"
   ]
  }
 ],
 "metadata": {
  "kernelspec": {
   "display_name": "SZD_code",
   "language": "python",
   "name": "python3"
  },
  "language_info": {
   "codemirror_mode": {
    "name": "ipython",
    "version": 3
   },
   "file_extension": ".py",
   "mimetype": "text/x-python",
   "name": "python",
   "nbconvert_exporter": "python",
   "pygments_lexer": "ipython3",
   "version": "3.11.5"
  }
 },
 "nbformat": 4,
 "nbformat_minor": 2
}
